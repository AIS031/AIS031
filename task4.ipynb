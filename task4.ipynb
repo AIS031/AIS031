{
 "cells": [
  {
   "cell_type": "markdown",
   "metadata": {},
   "source": [
    "### Q.1. What is Dictionary?\n",
    "### Ans.\n",
    ">A dictionary is a collection of which is unordered, changeable and indexed. In Python dictionaries are written with curly brackets, and they have keys and values.<br>\n",
    "> **For example**<br>\n",
    ">dict_={\"brand\":\"Ford\",\"model\":\"mustang\",\"year\":\"1964\"}"
   ]
  },
  {
   "cell_type": "markdown",
   "metadata": {},
   "source": [
    "### Q.2. What is the difference between set and dictionary?\n",
    "### Ans.\n",
    "> Dictionaries are unorderd sets. But the main Difference is that items in dictionaries are accessed via keys and not via their position  While Th"
   ]
  },
  {
   "cell_type": "markdown",
   "metadata": {},
   "source": [
    "### Q.3. Create a python set of mixed data types?\n",
    "### Ans."
   ]
  },
  {
   "cell_type": "code",
   "execution_count": 35,
   "metadata": {},
   "outputs": [
    {
     "name": "stdout",
     "output_type": "stream",
     "text": [
      "python set of mixed data types is: {4, 8, 'a', 10, 'python'}\n"
     ]
    }
   ],
   "source": [
    "set1={4,8,\"python\",'a',10}\n",
    "print(\"python set of mixed data types is:\",set1)"
   ]
  },
  {
   "cell_type": "markdown",
   "metadata": {},
   "source": [
    "### Q.4. Create a dictionary of employee name,Id and salary?\n",
    "### Ans."
   ]
  },
  {
   "cell_type": "code",
   "execution_count": 11,
   "metadata": {},
   "outputs": [
    {
     "name": "stdout",
     "output_type": "stream",
     "text": [
      "{'employee name': 'john', 'Id': 'AI0031', 'salary': 40000}\n"
     ]
    }
   ],
   "source": [
    "dict1={\n",
    "    \"employee name\":\"john\",\n",
    "    \"Id\":\"AI0031\",\n",
    "    \"salary\":40000\n",
    "}\n",
    "print(dict1)"
   ]
  },
  {
   "cell_type": "markdown",
   "metadata": {},
   "source": [
    "### Q.5. Display key-value pairs from dictionary using items() method?\n",
    "### Ans."
   ]
  },
  {
   "cell_type": "code",
   "execution_count": 12,
   "metadata": {},
   "outputs": [
    {
     "name": "stdout",
     "output_type": "stream",
     "text": [
      "dict key-value pairs are:\n",
      "employee name john\n",
      "Id AI0031\n",
      "salary 40000\n"
     ]
    }
   ],
   "source": [
    "dict1={\n",
    "    \"employee name\":\"john\",\n",
    "    \"Id\":\"AI0031\",\n",
    "    \"salary\":40000\n",
    "}\n",
    "print(\"dict key-value pairs are:\")\n",
    "for key,value in dict1.items():\n",
    "    print(key,value)"
   ]
  },
  {
   "cell_type": "markdown",
   "metadata": {},
   "source": [
    "### Q.6. Create a dictionary and access values of 2nd key from the dictionary?\n",
    "### Ans."
   ]
  },
  {
   "cell_type": "code",
   "execution_count": 14,
   "metadata": {},
   "outputs": [
    {
     "name": "stdout",
     "output_type": "stream",
     "text": [
      "value of 2nd key is: AI0031\n"
     ]
    }
   ],
   "source": [
    "dict1={\n",
    "    \"employee name\":\"john\",\n",
    "    \"Id\":\"AI0031\",\n",
    "    \"salary\":40000\n",
    "}\n",
    "print(\"value of 2nd key is:\",dict1[\"Id\"])"
   ]
  },
  {
   "cell_type": "markdown",
   "metadata": {},
   "source": [
    "### Q.7. Create a dictionary and then print empty dictionary using clear() method?\n",
    "### Ans."
   ]
  },
  {
   "cell_type": "code",
   "execution_count": 23,
   "metadata": {},
   "outputs": [
    {
     "name": "stdout",
     "output_type": "stream",
     "text": [
      "{}\n"
     ]
    }
   ],
   "source": [
    "dict1={\n",
    "    \"employee name\":\"john\",\n",
    "    \"Id\":\"AI0031\",\n",
    "    \"salary\":40000\n",
    "}\n",
    "dict1.clear()\n",
    "print(dict1)"
   ]
  },
  {
   "cell_type": "markdown",
   "metadata": {},
   "source": [
    "### Q.8. Create a Dictionary of name,roll no,marks,gender and access keys from the dictionary using key() method?\n",
    "### Ans."
   ]
  },
  {
   "cell_type": "code",
   "execution_count": 33,
   "metadata": {},
   "outputs": [
    {
     "data": {
      "text/plain": [
       "dict_keys(['name', 'roll no', 'marks', 'gender'])"
      ]
     },
     "execution_count": 33,
     "metadata": {},
     "output_type": "execute_result"
    }
   ],
   "source": [
    "dict1={\n",
    "    \"name\":\"john\",\n",
    "    \"roll no\":1844,\n",
    "    \"marks\":75,\n",
    "    \"gender\":\"male\"\n",
    "}\n",
    "dict1.keys()"
   ]
  },
  {
   "cell_type": "markdown",
   "metadata": {},
   "source": [
    "### Q.9. Take set A of even and B for odd and print the union of two sets?\n",
    "### Ans."
   ]
  },
  {
   "cell_type": "code",
   "execution_count": 37,
   "metadata": {},
   "outputs": [
    {
     "name": "stdout",
     "output_type": "stream",
     "text": [
      "union of two sets is {1, 2, 3, 4, 5, 6, 7, 8, 9, 10}\n"
     ]
    }
   ],
   "source": [
    "A={2,4,6,8,10}\n",
    "B={1,3,5,7,9}\n",
    "print(\"union of two sets is\",A|B)"
   ]
  },
  {
   "cell_type": "markdown",
   "metadata": {},
   "source": [
    "### Q.10. If A={1,2,3,4,5} and B={4,5,6,7,8} then find difference, interaction of set A & B?\n",
    "### Ans."
   ]
  },
  {
   "cell_type": "code",
   "execution_count": 38,
   "metadata": {},
   "outputs": [
    {
     "name": "stdout",
     "output_type": "stream",
     "text": [
      "the difference of two sets is: {1, 2, 3}\n",
      "the interaction of two sets is: {4, 5}\n"
     ]
    }
   ],
   "source": [
    "A={1,2,3,4,5}\n",
    "B={4,5,6,7,8}\n",
    "print(\"the difference of two sets is:\",A-B)\n",
    "print(\"the interaction of two sets is:\",A & B)"
   ]
  },
  {
   "cell_type": "markdown",
   "metadata": {},
   "source": [
    "### Q.11. If set={1,2,3,5,6} then add an element 4 in the set using add() function and remove 3 using discard() function?\n",
    "### Ans."
   ]
  },
  {
   "cell_type": "code",
   "execution_count": 42,
   "metadata": {},
   "outputs": [
    {
     "name": "stdout",
     "output_type": "stream",
     "text": [
      "adding element in the set: {1, 2, 3, 4, 5, 6}\n",
      "removing element in the set: {1, 2, 4, 5, 6}\n"
     ]
    }
   ],
   "source": [
    "set1={1,2,3,5,6}\n",
    "set1.add(4)\n",
    "print(\"adding element in the set:\",set1)\n",
    "set1.discard(3)\n",
    "print(\"removing element in the set:\",set1)"
   ]
  },
  {
   "cell_type": "markdown",
   "metadata": {},
   "source": [
    "### Q.12. Add 12,9,11 in the set A={1,2,3,5,6} using update() function?\n",
    "### Ans."
   ]
  },
  {
   "cell_type": "code",
   "execution_count": 44,
   "metadata": {},
   "outputs": [
    {
     "name": "stdout",
     "output_type": "stream",
     "text": [
      "{1, 2, 3, 5, 6, 9, 11, 12}\n"
     ]
    }
   ],
   "source": [
    "A={1,2,3,5,6}\n",
    "A.update([12,9,11])\n",
    "print(A)"
   ]
  },
  {
   "cell_type": "markdown",
   "metadata": {},
   "source": [
    "### Q.13. Create a set and print the sum of all elements in the set?\n",
    "### Ans."
   ]
  },
  {
   "cell_type": "code",
   "execution_count": 47,
   "metadata": {},
   "outputs": [
    {
     "name": "stdout",
     "output_type": "stream",
     "text": [
      "sumof all elements of the set is: 21\n"
     ]
    }
   ],
   "source": [
    "A={1,2,3,4,5,6}\n",
    "print(\"sumof all elements of the set is:\",sum(A))"
   ]
  },
  {
   "cell_type": "markdown",
   "metadata": {},
   "source": [
    "### Q.14. If myset={\"a\",\"p\",\"p\",\"l\",\"e\"} then check weather a and r is in the set or not using membership operator?\n",
    "### Ans."
   ]
  },
  {
   "cell_type": "code",
   "execution_count": 59,
   "metadata": {},
   "outputs": [
    {
     "name": "stdout",
     "output_type": "stream",
     "text": [
      "a is in the set\n"
     ]
    }
   ],
   "source": [
    "myset={\"a\",\"p\",\"p\",\"l\",\"e\"}\n",
    "if \"a\" in myset:\n",
    "    print(\"a is in the set\")\n",
    "else :\n",
    "     print(\"a is not in the set\")\n"
   ]
  },
  {
   "cell_type": "code",
   "execution_count": 61,
   "metadata": {},
   "outputs": [
    {
     "name": "stdout",
     "output_type": "stream",
     "text": [
      "r is not in the set\n"
     ]
    }
   ],
   "source": [
    "myset={\"a\",\"p\",\"p\",\"l\",\"e\"}\n",
    "if \"r\" in myset:\n",
    "    print(\"r is in the set\")\n",
    "else :\n",
    "     print(\"r is not in the set\")\n"
   ]
  },
  {
   "cell_type": "markdown",
   "metadata": {},
   "source": [
    "### Q.15. Create a dictionary of players name and runs in match and print keys and values in dictionary using for loop?\n",
    "### Ans."
   ]
  },
  {
   "cell_type": "code",
   "execution_count": 58,
   "metadata": {},
   "outputs": [
    {
     "name": "stdout",
     "output_type": "stream",
     "text": [
      "Virat Kohli -> 90\n",
      "Sachin Tendulkar -> 150\n",
      "Rohit Sharma -> 100\n",
      "Rahul Dravid -> 80\n"
     ]
    }
   ],
   "source": [
    "cricket_dict={\n",
    "    \"Virat Kohli\":90,\n",
    "    \"Sachin Tendulkar\":150,\n",
    "    \"Rohit Sharma\":100,\n",
    "    \"Rahul Dravid\":80\n",
    "}\n",
    "for key in cricket_dict:\n",
    "     print(key,'->',cricket_dict[key])"
   ]
  }
 ],
 "metadata": {
  "kernelspec": {
   "display_name": "Python 3",
   "language": "python",
   "name": "python3"
  },
  "language_info": {
   "codemirror_mode": {
    "name": "ipython",
    "version": 3
   },
   "file_extension": ".py",
   "mimetype": "text/x-python",
   "name": "python",
   "nbconvert_exporter": "python",
   "pygments_lexer": "ipython3",
   "version": "3.7.6"
  }
 },
 "nbformat": 4,
 "nbformat_minor": 4
}
