{
 "cells": [
  {
   "cell_type": "markdown",
   "metadata": {},
   "source": [
    "### Yugandhara Premraj Patil\n",
    "#### Id AIS031"
   ]
  },
  {
   "cell_type": "markdown",
   "metadata": {},
   "source": [
    "## Task 5 : Basic Programs"
   ]
  },
  {
   "cell_type": "markdown",
   "metadata": {},
   "source": [
    "**-----------------------------------------------------------------------------------------------------------------------------------------------------------------------------------------------------------------**"
   ]
  },
  {
   "cell_type": "markdown",
   "metadata": {},
   "source": [
    "### Q.1. Create a tuple to display the values of a tuple using for loop?\n",
    "### Ans."
   ]
  },
  {
   "cell_type": "code",
   "execution_count": 2,
   "metadata": {},
   "outputs": [
    {
     "name": "stdout",
     "output_type": "stream",
     "text": [
      "apple\n",
      "mango\n",
      "cherry\n",
      "banana\n"
     ]
    }
   ],
   "source": [
    "tup1=(\"apple\",\"mango\",\"cherry\",\"banana\")\n",
    "for x in tup1:\n",
    "    print(x)"
   ]
  },
  {
   "cell_type": "markdown",
   "metadata": {},
   "source": [
    "### Q.2. Write a python program to display even numbers between 100 and 120 using while loop?\n",
    "### Ans."
   ]
  },
  {
   "cell_type": "code",
   "execution_count": 85,
   "metadata": {
    "scrolled": false
   },
   "outputs": [
    {
     "name": "stdout",
     "output_type": "stream",
     "text": [
      " Please Enter the maximum Value:120\n",
      "102\n",
      "104\n",
      "106\n",
      "108\n",
      "110\n",
      "112\n",
      "114\n",
      "116\n",
      "118\n",
      "120\n"
     ]
    }
   ],
   "source": [
    "maximum = int(input(\" Please Enter the maximum Value:\"))\n",
    "number = 101\n",
    "while number<=maximum :\n",
    "      if(number % 2==0):\n",
    "        print(\"{0}\".format(number))\n",
    "      number=number + 1"
   ]
  },
  {
   "cell_type": "markdown",
   "metadata": {},
   "source": [
    "### Q.3. Write a python program to display numbers from 10 to 1 in decreasing order using for loop ?\n",
    "### Ans."
   ]
  },
  {
   "cell_type": "code",
   "execution_count": 2,
   "metadata": {},
   "outputs": [
    {
     "name": "stdout",
     "output_type": "stream",
     "text": [
      "10\n",
      "9\n",
      "8\n",
      "7\n",
      "6\n",
      "5\n",
      "4\n",
      "3\n",
      "2\n",
      "1\n"
     ]
    }
   ],
   "source": [
    "B=10\n",
    "A=1\n",
    "for i in range(B,A-1,-1):\n",
    "    print(i)"
   ]
  },
  {
   "cell_type": "markdown",
   "metadata": {},
   "source": [
    "### Q.4. write a python program to display numbers from 11 to 15 using continue statement?\n",
    "### Ans."
   ]
  },
  {
   "cell_type": "code",
   "execution_count": 8,
   "metadata": {},
   "outputs": [
    {
     "name": "stdout",
     "output_type": "stream",
     "text": [
      "11\n",
      "12\n",
      "13\n",
      "14\n",
      "15\n"
     ]
    }
   ],
   "source": [
    "for x in range(10,16):\n",
    "    if(x==10) :continue\n",
    "    print(x)"
   ]
  },
  {
   "cell_type": "markdown",
   "metadata": {},
   "source": [
    "### Q.5. Write a function add() to find sum of two numbers?\n",
    "### Ans."
   ]
  },
  {
   "cell_type": "code",
   "execution_count": 14,
   "metadata": {},
   "outputs": [
    {
     "name": "stdout",
     "output_type": "stream",
     "text": [
      "12\n"
     ]
    }
   ],
   "source": [
    "def add(a,b):           #function to for addition\n",
    "   sum=a+b;\n",
    "   return sum           #return value\n",
    "\n",
    "num1=4\n",
    "num2=8\n",
    "print(add(num1,num2))   #call the function"
   ]
  },
  {
   "cell_type": "markdown",
   "metadata": {},
   "source": [
    "### Q.6.  Write a function mult() to find multiplication of two numbers using return statement?\n",
    "### Ans."
   ]
  },
  {
   "cell_type": "code",
   "execution_count": 22,
   "metadata": {},
   "outputs": [
    {
     "name": "stdout",
     "output_type": "stream",
     "text": [
      "20\n"
     ]
    }
   ],
   "source": [
    "def mult(a,b):                      # function for multiplication\n",
    "   multiplication=a*b;\n",
    "   return multiplication             # return value\n",
    "\n",
    "num1=4\n",
    "num2=5\n",
    "print(mult(num1,num2))             # calling function"
   ]
  },
  {
   "cell_type": "markdown",
   "metadata": {},
   "source": [
    "### Q.7. Write a python program to print numbers in list which are greater than 50 where ,<br>                                     list=[12,55,9,30,47,56,23,60,75]\n",
    "### Ans."
   ]
  },
  {
   "cell_type": "code",
   "execution_count": 29,
   "metadata": {},
   "outputs": [
    {
     "name": "stdout",
     "output_type": "stream",
     "text": [
      "55\n",
      "56\n",
      "60\n",
      "75\n"
     ]
    }
   ],
   "source": [
    "list=[12,55,9,30,47,56,23,60,75]\n",
    "for i in range(0,9):\n",
    "    if (list[i] > 50):\n",
    "        print(list[i])"
   ]
  },
  {
   "cell_type": "markdown",
   "metadata": {},
   "source": [
    "### Q.8. Write a fuction max() that returns a maximum of two numbers?\n",
    "### Ans."
   ]
  },
  {
   "cell_type": "code",
   "execution_count": 66,
   "metadata": {},
   "outputs": [
    {
     "name": "stdout",
     "output_type": "stream",
     "text": [
      "4\n"
     ]
    }
   ],
   "source": [
    "def max(a,b):\n",
    "    if(a >=b):\n",
    "        maximum =a\n",
    "    else:\n",
    "        maximum =b\n",
    "        return maximum\n",
    "    \n",
    "x=2\n",
    "y=4\n",
    "print(max(x,y))"
   ]
  },
  {
   "cell_type": "markdown",
   "metadata": {},
   "source": [
    "### Q.9. Write a function divisible() that takes number <br>1.If number is divisible by 3,should return \"yes\"<br>2.If number is divisible by 5,should return \"no\"<br> 3.If number is divisible by both 3 and 5,it should return \"yesno\"<br> 4. otherwise it should return \"notdivisible\"\n",
    "### Ans."
   ]
  },
  {
   "cell_type": "code",
   "execution_count": 57,
   "metadata": {},
   "outputs": [
    {
     "name": "stdout",
     "output_type": "stream",
     "text": [
      "notdivisible\n"
     ]
    }
   ],
   "source": [
    "def divisible(x):\n",
    "    if (x % 3==0):\n",
    "        a=\"yes\"\n",
    "    if (x % 5==0):\n",
    "        a=\"no\"\n",
    "    if (x % 3==0) and (x % 5==0):\n",
    "        a=\"yesno\"\n",
    "    else:\n",
    "        a=\"notdivisible\"\n",
    "    return a \n",
    "        \n",
    "x=1\n",
    "print(divisible(x))\n",
    "\n",
    "        "
   ]
  },
  {
   "cell_type": "markdown",
   "metadata": {},
   "source": [
    "### Q.10. Write a function called stars(rows).If Rows is 4 it should print the following? <br> * <br> ** <br> ******* <br> ****"
   ]
  },
  {
   "cell_type": "code",
   "execution_count": 86,
   "metadata": {},
   "outputs": [
    {
     "name": "stdout",
     "output_type": "stream",
     "text": [
      "* \n",
      "\n",
      "** \n",
      "\n",
      "*** \n",
      "\n",
      "**** \n",
      "\n"
     ]
    }
   ],
   "source": [
    "def stars(rows): \n",
    "    for i in range(1,rows+1):\n",
    "        while i<=rows:\n",
    "            z=(\"*\" * i)\n",
    "            print(z,\"\\n\")\n",
    "            break\n",
    "stars(4)"
   ]
  }
 ],
 "metadata": {
  "kernelspec": {
   "display_name": "Python 3",
   "language": "python",
   "name": "python3"
  },
  "language_info": {
   "codemirror_mode": {
    "name": "ipython",
    "version": 3
   },
   "file_extension": ".py",
   "mimetype": "text/x-python",
   "name": "python",
   "nbconvert_exporter": "python",
   "pygments_lexer": "ipython3",
   "version": "3.7.6"
  }
 },
 "nbformat": 4,
 "nbformat_minor": 4
}
