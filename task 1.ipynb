{
 "cells": [
  {
   "cell_type": "markdown",
   "metadata": {},
   "source": [
    "## Q.1. what is variable? and rules to declare varibales in python?\n",
    "## Ans:\n",
    "### def : \n",
    "Variables are containers for storing data values.\n",
    "### rules : \n",
    "* A variable name must start with a letter or the underscore character\n",
    "* A variable name cannot start with a number\n",
    "* A variable name can only contain alpha-numeric characters and underscores (A-z, 0-9, and _ )\n",
    "* Variable names are case-sensitive (age, Age and AGE are three different variables)\n",
    "### Example\n",
    "### Legal variable names:\n",
    "* myvar = \"Yuga\"\n",
    "* my_var = \"Yuga\"\n",
    "* _my_var = \"Yuga\"\n",
    "* myVar = \"Yuga\"\n",
    "* MYVAR = \"Yuga\"\n",
    "* myvar2 = \"Yuga\"\n",
    "\n",
    "\n",
    "### Illegal variable names:\n",
    "* 2myvar = \"Yuga\"\n",
    "* my-var = \"Yuga\"\n",
    "* my var = \"Yuga\" "
   ]
  },
  {
   "cell_type": "markdown",
   "metadata": {},
   "source": [
    "## Q.2.  What are the primitive built-in types in python?\n",
    "## Ans:\n",
    "### Python has four primitive types: integers, floats, booleans and strings.\n",
    "* Integers are used when you want to represent numeric data, whole number specifically.<br>\n",
    "for e.g <br>\n",
    "x    = 2<br>\n",
    "runs = 50\n",
    "* Floats are used to represent floating point numbers. You can use it for decimals and rational numbers such as 1.3, 3.4. <br>  \n",
    "for e.g <br>\n",
    "x          = 5.2<br>\n",
    "percentage = 75.80\n",
    "* Boolean are data types that can take up the values: True and False. They are useful for in conditional and comparison expression <br>\n",
    "for e.g desision = True\n",
    "* When you want to store words, characters and alphabets, you use strings.<br>\n",
    "for e.g <br>\n",
    "teacher_name = \"john\"<br>\n",
    "course_name  = \"Python\""
   ]
  },
  {
   "cell_type": "markdown",
   "metadata": {},
   "source": [
    "## Q.3. What  is the mutable and inmutable objects in Python,Which data types are inmutable in python?\n",
    "## Ans \n",
    "* **mutable objects** : The mutable objects are the objects that are able to modify(i.e., delete, update, change etc.,)even after the creation of the object. \n",
    "* **Immutable Objects** : These are of in-built types like int, float, bool, string, unicode, tuple. In simple words, an immutable object can’t be changed after it created.\n",
    "* immutable data types are int, float, decimal, bool, string, tuple, and range."
   ]
  },
  {
   "cell_type": "markdown",
   "metadata": {},
   "source": [
    "## Q.4. How to get the length of the string?\n",
    "## Ans :\n",
    "* To find the length of the string, use len () function with this string passed as argument. The len () function returns an integer representing the length of the given string <br>\n",
    "\n",
    "#####  Python Program "
   ]
  },
  {
   "cell_type": "code",
   "execution_count": 1,
   "metadata": {},
   "outputs": [
    {
     "name": "stdout",
     "output_type": "stream",
     "text": [
      "Length of the string is: 15\n"
     ]
    }
   ],
   "source": [
    "mystring = 'python examples'\n",
    "#length of string \n",
    "length = len(mystring) \n",
    "print('Length of the string is:', length)"
   ]
  },
  {
   "cell_type": "markdown",
   "metadata": {},
   "source": [
    "## Q.5 Which are the relational operators and there use in python?\n",
    "## Ans:\n",
    "Relational operators are symbols that perform operations on data and return a results as true or false <br>\n",
    "depending on the comparision conditions <br>\n",
    "\n",
    "|Relational operators | Meaning                |\n",
    "|:--------------------|:-----------------------|\n",
    "|>                    |Greater than            |\n",
    "|<                    |Less than               |\n",
    "|>=                   |greater than or equal to|\n",
    "|<=                   |less than or equal to   |\n",
    "|==                   | Equals                 |\n",
    "|!=                   | Not equal to           | <br>\n",
    "\n",
    "**Relational Operatos** are used to establish some sort of relationship between the two operands.Some of relevant examples could be less than,greater than or equal to Operators.Python language is capable of understanding these types of operatos and accordingly return the output ,which can be either True or False.\n",
    "\n",
    "\n"
   ]
  },
  {
   "cell_type": "markdown",
   "metadata": {},
   "source": [
    "## Q.6. What is the result of float(5),10>=\"9\",10**2,len(\"basic python\")?\n",
    "## Ans:\n",
    "result of float(5), 10>=\"9\", 10**2, len(\"basic python\") is <br>\n",
    "5 <br>\n",
    "TypeError: '>=' not supported between instances of 'int' and 'str' <br>\n",
    "100<br>\n",
    "12<br> respectively.\n"
   ]
  },
  {
   "cell_type": "markdown",
   "metadata": {},
   "source": [
    "## Q.7. What is Meant by Input and Output? Which function is used to display output in python?\n",
    "## Ans:\n",
    "> **Input** means the data entered by the user of the program <br>\n",
    "> **Output** means a value you pass to a function when calling it .A value is a letter or a number.\n",
    "\n",
    "> **print()** function is used to display output "
   ]
  },
  {
   "cell_type": "markdown",
   "metadata": {},
   "source": [
    "### Q.8. convert any integer number into float,string, and convert float into string,integer and convert string into float,integer\n",
    "### Ans:"
   ]
  },
  {
   "cell_type": "code",
   "execution_count": 13,
   "metadata": {},
   "outputs": [
    {
     "name": "stdout",
     "output_type": "stream",
     "text": [
      "int into float  10.0\n",
      "int into float  10\n",
      "float into string 24.5\n",
      "float into int 24\n",
      "string to float 10.0\n",
      "string to int 10\n"
     ]
    }
   ],
   "source": [
    "x=10; y=24.5 ; z='10'\n",
    "# convert integer into float and string\n",
    "print(\"int into float \",float(x))\n",
    "print(\"int into float \",str(x))\n",
    "# convert float into string and integer\n",
    "print(\"float into string\",str(y))\n",
    "print(\"float into int\",int(y))\n",
    "# convert string into float and integer\n",
    "print(\"string to float\",float(z))\n",
    "print(\"string to int\",int(z))"
   ]
  },
  {
   "cell_type": "markdown",
   "metadata": {},
   "source": [
    "### Q.9. Take integer number using input function from user?\n",
    "### Ans:\n",
    "> I= int(input('enter an integer')) <br>"
   ]
  },
  {
   "cell_type": "code",
   "execution_count": null,
   "metadata": {},
   "outputs": [],
   "source": [
    "I= int(input('enter an integer'))"
   ]
  },
  {
   "cell_type": "markdown",
   "metadata": {},
   "source": [
    "## Q.10. write a python program to accept two number using input function and use all the arithmetic operators?\n",
    "## Ans:\n",
    "> x=int(input('enter first no.:') <br>\n",
    "> y=int(input('enter second no.:') <br>\n",
    ">add =x + y <br>\n",
    ">dif =x - y <br>\n",
    ">mul =x * y <br>\n",
    ">div = x / y <br>\n",
    ">florr_div = x // y <br>\n",
    ">power = x ** y <br>\n",
    ">modulus = x % y"
   ]
  },
  {
   "cell_type": "markdown",
   "metadata": {},
   "source": [
    "### Q.11. check weather two numbers are equal or not using identity operator?\n",
    "### Ans.\n"
   ]
  },
  {
   "cell_type": "code",
   "execution_count": 2,
   "metadata": {},
   "outputs": [
    {
     "name": "stdout",
     "output_type": "stream",
     "text": [
      "a and b are same\n",
      "a and b are not same\n"
     ]
    }
   ],
   "source": [
    "a=20 \n",
    "b=20 \n",
    "if (a is b) :\n",
    "    print(\"a and b are same\") \n",
    "else:\n",
    "    print(\"a and b are not same\")\n",
    "b=25\n",
    "if (a is not b) :\n",
    "    print(\"a and b are not same\") \n",
    "else:\n",
    "    print(\"a and b are same\")"
   ]
  },
  {
   "cell_type": "markdown",
   "metadata": {},
   "source": [
    "### Q.12.write a python program to check weather two string are equal or not using comparision operator?\n",
    "### Ans."
   ]
  },
  {
   "cell_type": "code",
   "execution_count": 10,
   "metadata": {},
   "outputs": [
    {
     "name": "stdout",
     "output_type": "stream",
     "text": [
      "python and java are not same\n",
      "python and java are same\n"
     ]
    }
   ],
   "source": [
    "x = \"python\"\n",
    "y = \"java\"\n",
    "if (x != y):\n",
    "    print(\"python and java are not same\")\n",
    "else: \n",
    "    print(\"python and java are same\")\n",
    "    \n",
    "y = \"python\"\n",
    "if (x == y):\n",
    "    print(\"python and java are same\")\n",
    "else: \n",
    "    print(\"python and java are not same\")\n",
    "    "
   ]
  },
  {
   "cell_type": "markdown",
   "metadata": {},
   "source": [
    "### Q.13. assing same value to 3 variable name a,b,c using one line command?\n",
    "### Ans.\n",
    "> a=b=c=3"
   ]
  },
  {
   "cell_type": "code",
   "execution_count": 20,
   "metadata": {},
   "outputs": [
    {
     "name": "stdout",
     "output_type": "stream",
     "text": [
      "3\n",
      "3\n",
      "3\n"
     ]
    }
   ],
   "source": [
    "a=b=c=3\n",
    "print(a)\n",
    "print(b)\n",
    "print(c)"
   ]
  },
  {
   "cell_type": "markdown",
   "metadata": {},
   "source": [
    "### Q.14 How to print adress of variable in python?\n",
    "### Ans.\n",
    "> var=number<br>\n",
    ">print(id(var))"
   ]
  },
  {
   "cell_type": "code",
   "execution_count": 21,
   "metadata": {},
   "outputs": [
    {
     "name": "stdout",
     "output_type": "stream",
     "text": [
      "140718475879088\n"
     ]
    }
   ],
   "source": [
    "var=10\n",
    "print(id(var))"
   ]
  },
  {
   "cell_type": "markdown",
   "metadata": {},
   "source": [
    "### Q.15. introduction to python?\n",
    "### Ans.\n",
    ">Python is a widely used general-purpose, high level programming language. It was created by Guido van Rossum in 1991 and further developed by the Python Software Foundation. It was designed with an emphasis on code readability, and its syntax allows programmers to express their concepts in fewer lines of code. \n",
    "Python is a programming language that lets you work quickly and integrate systems more efficiently. <br>\n",
    "\n",
    ">There are two major Python versions: Python 2 and Python 3. Both are quite different.\n",
    "\n",
    "#### installation of python 3\n",
    ">**Step 1** – Download the latest Python 3.x version. At the time of writing this article latest version was Python 3.6.4. Download Windows x86 – 64 executable file only as installer will automatically install 32 or 64 bit of Python according to the system configuration.<br>\n",
    ">**Step 2** – Open the executable file and Check the Add Python 3.6 to PATH. Then click the Install Now button. It will show the installation progress.<br>\n",
    ">**Step 3** – When the installation progress is completed, you will see the Disable path length limit. Now you must be thinking what is it and whats will happen if I will disable it.  The answer is clear, it will remove the limitations on MAX_PATH variable. It will allow to use long path names for the Python. We recommend you to not disable this option as it will remove any path related issues while working in Windows. Therefore click on the close button to finish the installation.<br>\n",
    ">**Step 4** – Now, the Python 3.6 is installed. You can check it either it is properly installed or not. You can do it through Command Prompt. Open the command prompt and type the following command. It will output the version of the Python.\n",
    "\n",
    "#### Python 2 Major Version Installation\n",
    ">**Step 1** – Download the latest Python 2.x version. The latest version at the time of writing this article is Python 2.7.14. You can also download the other versions by scrolling down. But we recommend you to download the latest releases. Choose the Windows x86-64 MSI installer to install in 32 bit or 64 bit Windows OS.<br>\n",
    ">**Step 2**- Run the installer and select install for all users. Click “next ” button to continue.You will see the choice to select destination directory. Leave as it is and click the “Next Button”. <br>\n",
    ">**Step 3** – After the step 2 you have to do some customization. Scroll down and click on Add python.exe to path and select “Will be installed on local hard drive“. Then click on the Next button to complete the installation progress.<br>\n",
    ">**Step 4**- The Python 2.7.14 had been installed. In addition you have to check whether it has been properly install or not. You have to use the same following command. It will output the python version.\n"
   ]
  },
  {
   "cell_type": "code",
   "execution_count": null,
   "metadata": {},
   "outputs": [],
   "source": []
  }
 ],
 "metadata": {
  "kernelspec": {
   "display_name": "Python 3",
   "language": "python",
   "name": "python3"
  },
  "language_info": {
   "codemirror_mode": {
    "name": "ipython",
    "version": 3
   },
   "file_extension": ".py",
   "mimetype": "text/x-python",
   "name": "python",
   "nbconvert_exporter": "python",
   "pygments_lexer": "ipython3",
   "version": "3.7.6"
  }
 },
 "nbformat": 4,
 "nbformat_minor": 4
}
