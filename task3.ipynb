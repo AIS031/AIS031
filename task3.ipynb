{
 "cells": [
  {
   "cell_type": "markdown",
   "metadata": {},
   "source": [
    "### Q.1. What is tuple?\n",
    "### Ans.\n",
    "> A  **tuple** is immutable sequaence of **Python** objects. <br>\n",
    "> Tuples are sequences just like lists.\n"
   ]
  },
  {
   "cell_type": "markdown",
   "metadata": {},
   "source": [
    "### Q.2. What is difference between tuple and list?\n",
    "### Ans.\n",
    ">The difference between list and tuple are, the tuples cannot be changed unlike lists and tuple use parantheses, whereas lists use square brackets."
   ]
  },
  {
   "cell_type": "markdown",
   "metadata": {},
   "source": [
    "### Q.3. What is the result of range(1,12,2)\n",
    "### Ans.\n",
    ">range(1,12,2) is the result of range(1,12,2)\n"
   ]
  },
  {
   "cell_type": "markdown",
   "metadata": {},
   "source": [
    "### Q.4. Assuming a=[10,20,30,40,50]<br> 1.Find length of a list?<br>2.find maximum and minimum number of a list?\n",
    "### Ans.\n"
   ]
  },
  {
   "cell_type": "code",
   "execution_count": 2,
   "metadata": {},
   "outputs": [
    {
     "name": "stdout",
     "output_type": "stream",
     "text": [
      "length of a: 5\n",
      "maximum of a: 50 \n",
      "minimum of a: 10\n"
     ]
    }
   ],
   "source": [
    "a=[10,20,30,40,50]\n",
    "print(\"length of a:\",len(a))\n",
    "print(\"maximum of a:\",max(a),\"\\nminimum of a:\",min(a))"
   ]
  },
  {
   "cell_type": "markdown",
   "metadata": {},
   "source": [
    "### Q.5. If x=(1,2,3,4,5,1,3,1) then what is the result of x*2 and x.count(1)?\n",
    "### Ans.\n",
    ">The result of :<br>\n",
    "> x*2=(1, 2, 3, 4, 5, 1, 3, 1, 1, 2, 3, 4, 5, 1, 3, 1)<br>\n",
    "> and x.count(1)=3"
   ]
  },
  {
   "cell_type": "markdown",
   "metadata": {},
   "source": [
    "### Q.6. Create a list of colors name and then print first and last color name of the list using slicing?\n",
    "### Ans."
   ]
  },
  {
   "cell_type": "code",
   "execution_count": 8,
   "metadata": {},
   "outputs": [
    {
     "name": "stdout",
     "output_type": "stream",
     "text": [
      "First and last name from list is: ['black', 'purple']\n"
     ]
    }
   ],
   "source": [
    "x=['black','pink','white','yellow','purple']\n",
    "print('First and last name from list is:',x[::len(x)-1])\n"
   ]
  },
  {
   "cell_type": "markdown",
   "metadata": {},
   "source": [
    "### Q.7. If list=[1,4,7,'a','c',\"rat\",\"mat\",4,6,4] then add element 12 using append method and remove rat element using remove method in the given list? \n",
    "### Ans."
   ]
  },
  {
   "cell_type": "code",
   "execution_count": 19,
   "metadata": {},
   "outputs": [
    {
     "name": "stdout",
     "output_type": "stream",
     "text": [
      "[1, 4, 7, 'a', 'c', 'rat', 'mat', 4, 6, 4, 12]\n",
      "[1, 4, 7, 'a', 'c', 'mat', 4, 6, 4, 12]\n"
     ]
    }
   ],
   "source": [
    "import numpy as np\n",
    "list=[1,4,7,'a','c',\"rat\",\"mat\",4,6,4]\n",
    "list.append(12)\n",
    "print(list)\n",
    "list.remove(\"rat\")\n",
    "print(list)"
   ]
  },
  {
   "cell_type": "markdown",
   "metadata": {},
   "source": [
    "### Q.8.  Create two list and concatenate them and then repeat the first list 3 times?\n",
    "### Ans."
   ]
  },
  {
   "cell_type": "code",
   "execution_count": 21,
   "metadata": {},
   "outputs": [
    {
     "name": "stdout",
     "output_type": "stream",
     "text": [
      "concatenate list using + operator: [1, 2, 'a', 'b', 'c', 3, 4, 'd', 'c', 'e']\n",
      "repeat 1st list 3 times: [1, 2, 'a', 'b', 'c', 1, 2, 'a', 'b', 'c', 1, 2, 'a', 'b', 'c']\n"
     ]
    }
   ],
   "source": [
    "list1=[1,2,'a','b','c']\n",
    "list2=[3,4,'d','c','e']\n",
    "print(\"concatenate list using + operator:\",list1+list2)\n",
    "print(\"repeat 1st list 3 times:\",list1*3)"
   ]
  },
  {
   "cell_type": "markdown",
   "metadata": {},
   "source": [
    "### Q.9. Create a tuple of fruit name and then access first 4 elements from tuple?\n",
    "### Ans. \n"
   ]
  },
  {
   "cell_type": "code",
   "execution_count": 33,
   "metadata": {},
   "outputs": [
    {
     "name": "stdout",
     "output_type": "stream",
     "text": [
      "('mango', 'banana', 'apple', 'watermelon')\n",
      "OR\n",
      "('mango', 'banana', 'apple', 'watermelon')\n"
     ]
    }
   ],
   "source": [
    "fruit=(\"mango\",\"banana\",\"apple\",\"watermelon\",\"grapes\",\"tamarind\")\n",
    "print(fruit[:-2])\n",
    "print(\"OR\")\n",
    "print(fruit[0:4])"
   ]
  },
  {
   "cell_type": "markdown",
   "metadata": {},
   "source": [
    "### Q.10. Create a list using range function  and then convert this list into tuple using tuple function?\n",
    "### Ans."
   ]
  },
  {
   "cell_type": "code",
   "execution_count": 40,
   "metadata": {},
   "outputs": [
    {
     "name": "stdout",
     "output_type": "stream",
     "text": [
      "[1, 3, 5, 7, 9, 11]\n"
     ]
    },
    {
     "data": {
      "text/plain": [
       "(1, 3, 5, 7, 9, 11)"
      ]
     },
     "execution_count": 40,
     "metadata": {},
     "output_type": "execute_result"
    }
   ],
   "source": [
    "mylist=[*range(1,12,2)]\n",
    "print(mylist)\n",
    "tuple(mylist)"
   ]
  },
  {
   "cell_type": "markdown",
   "metadata": {},
   "source": [
    "### Q.11  Create a tuple using eval function and then obtained the length of tuple?\n",
    "### Ans.\n"
   ]
  },
  {
   "cell_type": "code",
   "execution_count": 74,
   "metadata": {},
   "outputs": [
    {
     "name": "stdout",
     "output_type": "stream",
     "text": [
      "(1, 2, 'a', 'b', 'mat')\n",
      "5\n"
     ]
    }
   ],
   "source": [
    "x=\"(1,2,'a','b','mat')\"\n",
    "y=eval(x)\n",
    "print(y)\n",
    "print(len(y))"
   ]
  },
  {
   "cell_type": "markdown",
   "metadata": {},
   "source": [
    "### Q.12. Crate a tuple of integer number and then sort the elments of tuple?\n",
    "### Ans."
   ]
  },
  {
   "cell_type": "code",
   "execution_count": 75,
   "metadata": {},
   "outputs": [
    {
     "data": {
      "text/plain": [
       "[1, 2, 4, 8, 10, 50]"
      ]
     },
     "execution_count": 75,
     "metadata": {},
     "output_type": "execute_result"
    }
   ],
   "source": [
    "x=(1,4,2,8,10,50)\n",
    "sorted(x)"
   ]
  },
  {
   "cell_type": "markdown",
   "metadata": {},
   "source": [
    "### Q.13. Create  a list of color name and then insert purple color on 3rd position using insert function?\n",
    "### Ans."
   ]
  },
  {
   "cell_type": "code",
   "execution_count": 52,
   "metadata": {},
   "outputs": [
    {
     "name": "stdout",
     "output_type": "stream",
     "text": [
      "['black', 'violet', 'purple', 'blue', 'white', 'orange', 'brown']\n"
     ]
    }
   ],
   "source": [
    "color_name=[\"black\",\"violet\",\"blue\",\"white\",\"orange\",\"brown\"]\n",
    "color_name.insert(2,\"purple\")\n",
    "print(color_name)"
   ]
  },
  {
   "cell_type": "markdown",
   "metadata": {},
   "source": [
    "### Q.14. If x=(50,60,70,80,90,(200,100)) then access 200,100 from tuple\n",
    "### Ans.\n"
   ]
  },
  {
   "cell_type": "code",
   "execution_count": 53,
   "metadata": {},
   "outputs": [
    {
     "data": {
      "text/plain": [
       "(200, 100)"
      ]
     },
     "execution_count": 53,
     "metadata": {},
     "output_type": "execute_result"
    }
   ],
   "source": [
    "x=(50,60,70,80,90,(200,100))\n",
    "x[-1]"
   ]
  },
  {
   "cell_type": "markdown",
   "metadata": {},
   "source": [
    "### Q.15. create a nested tuple and nested list?\n",
    "### Ans."
   ]
  },
  {
   "cell_type": "code",
   "execution_count": 59,
   "metadata": {},
   "outputs": [
    {
     "name": "stdout",
     "output_type": "stream",
     "text": [
      "nested list is: ['a', ['b', ['cc', 'dd'], 'e'], 'f', 'g']\n",
      "nested tuple is: (4, ('a', 'b', ('cc', 'dd'), 'e'), ('rat', 'mat'), 10)\n"
     ]
    }
   ],
   "source": [
    "# nested list\n",
    "x=['a',['b',['cc','dd'],'e'],'f','g']\n",
    "print(\"nested list is:\",x)\n",
    "## nested tuple\n",
    "y=(4,('a','b',(\"cc\",\"dd\"),'e'),(\"rat\",\"mat\"),10)\n",
    "print(\"nested tuple is:\",y)"
   ]
  }
 ],
 "metadata": {
  "kernelspec": {
   "display_name": "Python 3",
   "language": "python",
   "name": "python3"
  },
  "language_info": {
   "codemirror_mode": {
    "name": "ipython",
    "version": 3
   },
   "file_extension": ".py",
   "mimetype": "text/x-python",
   "name": "python",
   "nbconvert_exporter": "python",
   "pygments_lexer": "ipython3",
   "version": "3.7.6"
  }
 },
 "nbformat": 4,
 "nbformat_minor": 4
}
