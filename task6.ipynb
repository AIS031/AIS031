{
 "cells": [
  {
   "cell_type": "markdown",
   "metadata": {},
   "source": [
    "### Yugandhara Premraj Patil\n",
    "### ID : AIS031 "
   ]
  },
  {
   "cell_type": "markdown",
   "metadata": {},
   "source": [
    "### Task 6 : Control Statements"
   ]
  },
  {
   "cell_type": "markdown",
   "metadata": {},
   "source": [
    "#### Q.1. What are the control statement in python? <br> * Basic program based on control statement:\n",
    "#### Ans.\n",
    "> control statement in python are used to control the order of execution of the program based on the values and logic:<br>\n",
    ">Python provides us withh 3 types of control statements:<br>\n",
    ">* continue<br>\n",
    ">* Break <br>\n",
    ">* Pass"
   ]
  },
  {
   "cell_type": "code",
   "execution_count": 6,
   "metadata": {},
   "outputs": [
    {
     "name": "stdout",
     "output_type": "stream",
     "text": [
      "my list of numbers is : 1\n",
      "my list of numbers is : 2\n",
      "my list of numbers is : 3\n",
      "my list of numbers is : 4\n",
      "my list of numbers is : 6\n",
      "my list of numbers is : 7\n",
      "my list of numbers is : 8\n",
      "my list of numbers is : 9\n",
      "my list of numbers is :  1\n",
      "my list of numbers is :  2\n",
      "my list of numbers is :  3\n",
      "my list of numbers is :  4\n",
      "my list of numbers is :  5\n",
      "my list of numbers is :   1\n",
      "my list of numbers is :   2\n",
      "my list of numbers is :   3\n",
      "my list of numbers is :   4\n",
      "my list of numbers is :   5\n",
      "my list of numbers is :   6\n",
      "my list of numbers is :   7\n",
      "my list of numbers is :   8\n",
      "my list of numbers is :   9\n"
     ]
    }
   ],
   "source": [
    "# Basic Prgram on controll statements\n",
    "for i in range(1,10):                  # continue statement\n",
    "    if(i==5):\n",
    "        continue\n",
    "    print(\"my list of numbers is :\",i)\n",
    "\n",
    "for i in range(1,10):                   # break statement\n",
    "    if(i==6):break\n",
    "    print(\"my list of numbers is : \",i)\n",
    "            \n",
    "for i in range(1,10):                   # pass statement\n",
    "    if(i==4):pass\n",
    "    print(\"my list of numbers is :  \",i)\n",
    "            "
   ]
  },
  {
   "cell_type": "markdown",
   "metadata": {},
   "source": [
    "#### Q.2. A python program to test weather a given no. is in between 1 and 10?\n",
    "#### Ans."
   ]
  },
  {
   "cell_type": "code",
   "execution_count": 8,
   "metadata": {},
   "outputs": [
    {
     "name": "stdout",
     "output_type": "stream",
     "text": [
      "The number is outside the given range.\n"
     ]
    }
   ],
   "source": [
    "def test_range(n):\n",
    "    if n in range(1,10):\n",
    "        print(\"The number is in given range\")\n",
    "    else:\n",
    "        print(\"The number is outside the given range.\")\n",
    "        \n",
    "test_range(15)"
   ]
  },
  {
   "cell_type": "markdown",
   "metadata": {},
   "source": [
    "#### Q.3. Write a python program to check weather a number is even or odd?\n",
    "#### Ans."
   ]
  },
  {
   "cell_type": "code",
   "execution_count": 10,
   "metadata": {},
   "outputs": [
    {
     "name": "stdout",
     "output_type": "stream",
     "text": [
      "enter a number1\n",
      "The given no. is odd\n"
     ]
    }
   ],
   "source": [
    "a=int(input(\"enter a number\"))\n",
    "if(a%2==0):\n",
    "    print(\" The given no. is even\")\n",
    "else:\n",
    "    print(\"The given no. is odd\")"
   ]
  },
  {
   "cell_type": "markdown",
   "metadata": {},
   "source": [
    "#### Q.4.Write a python program check weather a list is empty or not using len() function?\n",
    "#### Ans."
   ]
  },
  {
   "cell_type": "code",
   "execution_count": 3,
   "metadata": {},
   "outputs": [
    {
     "name": "stdout",
     "output_type": "stream",
     "text": [
      "enter a list[1,2,3]\n",
      "list is not empty\n"
     ]
    }
   ],
   "source": [
    "a=input(\"enter a list\")\n",
    "if (len(a)==0):\n",
    "    print(\"list is empty\")\n",
    "else:\n",
    "    print(\"list is not empty\")"
   ]
  },
  {
   "cell_type": "markdown",
   "metadata": {},
   "source": [
    "#### Q.5. A python program to check weather a given number is zero,positive or negative?\n",
    "#### Ans."
   ]
  },
  {
   "cell_type": "code",
   "execution_count": 9,
   "metadata": {},
   "outputs": [
    {
     "name": "stdout",
     "output_type": "stream",
     "text": [
      "enter a number:-5\n",
      "Given number is negative\n"
     ]
    }
   ],
   "source": [
    "a=float(input(\"enter a number:\"))\n",
    "if (a > 0):\n",
    "    print(\"Given number is positive\")\n",
    "elif(a < 0):\n",
    "     print(\"Given number is negative\")\n",
    "else:\n",
    "    print(\"given number is zero\")"
   ]
  },
  {
   "cell_type": "markdown",
   "metadata": {},
   "source": [
    "#### Q.6. Print first 10 natural numbers using while loop and for loop?\n",
    "#### Ans."
   ]
  },
  {
   "cell_type": "code",
   "execution_count": 2,
   "metadata": {},
   "outputs": [
    {
     "name": "stdout",
     "output_type": "stream",
     "text": [
      "1 2 3 4 5 6 7 8 9 "
     ]
    }
   ],
   "source": [
    "a=1\n",
    "for i in range(1,10):\n",
    "    while(a <= i):\n",
    "        print(a,end=' ')\n",
    "        a=a+1"
   ]
  },
  {
   "cell_type": "markdown",
   "metadata": {},
   "source": [
    "#### Q.7. Write a python program to reverse the following list using for loop?<br> lt1=[12,7,9,14,5]\n",
    "#### Ans."
   ]
  },
  {
   "cell_type": "code",
   "execution_count": 1,
   "metadata": {},
   "outputs": [
    {
     "name": "stdout",
     "output_type": "stream",
     "text": [
      "5\n",
      "14\n",
      "9\n",
      "7\n",
      "12\n"
     ]
    }
   ],
   "source": [
    "lt1=[12,7,9,14,5]\n",
    "for i in range(len(lt1)-1,-1,-1):\n",
    "    print(lt1[i])    "
   ]
  },
  {
   "cell_type": "markdown",
   "metadata": {},
   "source": [
    "#### Q.8. Write a python program to multiply all the items in list using for loop?\n",
    "#### Ans."
   ]
  },
  {
   "cell_type": "code",
   "execution_count": 9,
   "metadata": {},
   "outputs": [
    {
     "name": "stdout",
     "output_type": "stream",
     "text": [
      "multiplication of all items in a list is: 1\n",
      "multiplication of all items in a list is: 2\n",
      "multiplication of all items in a list is: 6\n",
      "multiplication of all items in a list is: 24\n",
      "multiplication of all items in a list is: 120\n",
      "multiplication of all items in a list is: 720\n"
     ]
    }
   ],
   "source": [
    "a=[1,2,3,4,5,6]\n",
    "result=1\n",
    "for i in range(0,len(a)):\n",
    "    result=result*a[i]\n",
    "    print(\"multiplication of all items in a list is:\",result)"
   ]
  },
  {
   "cell_type": "markdown",
   "metadata": {},
   "source": [
    "#### Q.9. Write  a python program to print numbers in list which are divisible by 6 and if numbers is greater than 150 then stop the iteration?\n",
    "#### Ans."
   ]
  },
  {
   "cell_type": "code",
   "execution_count": 3,
   "metadata": {},
   "outputs": [
    {
     "name": "stdout",
     "output_type": "stream",
     "text": [
      "12\n",
      "36\n",
      "102\n",
      "150\n"
     ]
    }
   ],
   "source": [
    "a=[12,15,36,20,55,47,102,150,146,180]\n",
    "for i in range(0,len(a)):\n",
    "    if (a[i] % 6==0):\n",
    "        print(a[i])\n",
    "    elif(a[i] > 102): break"
   ]
  },
  {
   "cell_type": "markdown",
   "metadata": {},
   "source": [
    "#### Q.10. Write a python program to count a specific letter in string.?\n",
    "#### Ans."
   ]
  },
  {
   "cell_type": "code",
   "execution_count": 41,
   "metadata": {},
   "outputs": [
    {
     "name": "stdout",
     "output_type": "stream",
     "text": [
      "2\n"
     ]
    }
   ],
   "source": [
    "str1=\"greek\"\n",
    "print(str1.count(\"e\"))"
   ]
  }
 ],
 "metadata": {
  "kernelspec": {
   "display_name": "Python 3",
   "language": "python",
   "name": "python3"
  },
  "language_info": {
   "codemirror_mode": {
    "name": "ipython",
    "version": 3
   },
   "file_extension": ".py",
   "mimetype": "text/x-python",
   "name": "python",
   "nbconvert_exporter": "python",
   "pygments_lexer": "ipython3",
   "version": "3.7.6"
  }
 },
 "nbformat": 4,
 "nbformat_minor": 4
}
